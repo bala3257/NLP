{
 "cells": [
  {
   "cell_type": "code",
   "execution_count": 78,
   "metadata": {},
   "outputs": [],
   "source": [
    "import pandas as pd\n",
    "import spacy\n",
    "nlp = spacy.load('en_core_web_sm')"
   ]
  },
  {
   "cell_type": "code",
   "execution_count": 79,
   "metadata": {},
   "outputs": [
    {
     "data": {
      "text/html": [
       "<div>\n",
       "<style scoped>\n",
       "    .dataframe tbody tr th:only-of-type {\n",
       "        vertical-align: middle;\n",
       "    }\n",
       "\n",
       "    .dataframe tbody tr th {\n",
       "        vertical-align: top;\n",
       "    }\n",
       "\n",
       "    .dataframe thead th {\n",
       "        text-align: right;\n",
       "    }\n",
       "</style>\n",
       "<table border=\"1\" class=\"dataframe\">\n",
       "  <thead>\n",
       "    <tr style=\"text-align: right;\">\n",
       "      <th></th>\n",
       "      <th>review_id</th>\n",
       "      <th>user_id</th>\n",
       "      <th>business_id</th>\n",
       "      <th>stars</th>\n",
       "      <th>useful</th>\n",
       "      <th>funny</th>\n",
       "      <th>cool</th>\n",
       "      <th>text</th>\n",
       "      <th>date</th>\n",
       "    </tr>\n",
       "  </thead>\n",
       "  <tbody>\n",
       "    <tr>\n",
       "      <th>100086</th>\n",
       "      <td>h8l10hiVsn4DlAv3_LlsQw</td>\n",
       "      <td>UFE_5r4ewNK3jA2pRPn2ww</td>\n",
       "      <td>r5PLDU-4mSbde5XekTXSCA</td>\n",
       "      <td>5</td>\n",
       "      <td>0</td>\n",
       "      <td>0</td>\n",
       "      <td>0</td>\n",
       "      <td>Wow! Really good Italian food with a grocery s...</td>\n",
       "      <td>2018-07-08 22:42:32</td>\n",
       "    </tr>\n",
       "    <tr>\n",
       "      <th>1013</th>\n",
       "      <td>vvIzf3pr8lTqE_AOsxmgaA</td>\n",
       "      <td>MAmijW4ooUzujkufYYLMeQ</td>\n",
       "      <td>r5PLDU-4mSbde5XekTXSCA</td>\n",
       "      <td>4</td>\n",
       "      <td>0</td>\n",
       "      <td>0</td>\n",
       "      <td>0</td>\n",
       "      <td>We have been trying Eggplant sandwiches all ov...</td>\n",
       "      <td>2015-04-15 04:50:56</td>\n",
       "    </tr>\n",
       "    <tr>\n",
       "      <th>101755</th>\n",
       "      <td>27t2Z9QXd6Pm9lKfEG_LzQ</td>\n",
       "      <td>kjeX2RXvW7RhBbD2QLd5jA</td>\n",
       "      <td>r5PLDU-4mSbde5XekTXSCA</td>\n",
       "      <td>5</td>\n",
       "      <td>7</td>\n",
       "      <td>8</td>\n",
       "      <td>6</td>\n",
       "      <td>(Lyrics - Falco - Rock Me Amadeus)\\n\\nOoh, Roc...</td>\n",
       "      <td>2014-01-20 16:31:22</td>\n",
       "    </tr>\n",
       "    <tr>\n",
       "      <th>102164</th>\n",
       "      <td>ZB4Okiod5Yxaxx5UEEvdWg</td>\n",
       "      <td>fDBybzZAL5UDscd33HCXyA</td>\n",
       "      <td>r5PLDU-4mSbde5XekTXSCA</td>\n",
       "      <td>4</td>\n",
       "      <td>3</td>\n",
       "      <td>4</td>\n",
       "      <td>2</td>\n",
       "      <td>The omnipresent crowds here speak volumes abou...</td>\n",
       "      <td>2015-12-06 23:21:51</td>\n",
       "    </tr>\n",
       "    <tr>\n",
       "      <th>102256</th>\n",
       "      <td>BbJWlQRUPGFxnlZbgpdrLA</td>\n",
       "      <td>62JJoUPxKxqb6snMJxi2ng</td>\n",
       "      <td>r5PLDU-4mSbde5XekTXSCA</td>\n",
       "      <td>3</td>\n",
       "      <td>0</td>\n",
       "      <td>0</td>\n",
       "      <td>0</td>\n",
       "      <td>I had a bruschetta open face sandwich basicall...</td>\n",
       "      <td>2017-12-18 22:42:51</td>\n",
       "    </tr>\n",
       "  </tbody>\n",
       "</table>\n",
       "</div>"
      ],
      "text/plain": [
       "                     review_id                 user_id  \\\n",
       "100086  h8l10hiVsn4DlAv3_LlsQw  UFE_5r4ewNK3jA2pRPn2ww   \n",
       "1013    vvIzf3pr8lTqE_AOsxmgaA  MAmijW4ooUzujkufYYLMeQ   \n",
       "101755  27t2Z9QXd6Pm9lKfEG_LzQ  kjeX2RXvW7RhBbD2QLd5jA   \n",
       "102164  ZB4Okiod5Yxaxx5UEEvdWg  fDBybzZAL5UDscd33HCXyA   \n",
       "102256  BbJWlQRUPGFxnlZbgpdrLA  62JJoUPxKxqb6snMJxi2ng   \n",
       "\n",
       "                   business_id  stars  useful  funny  cool  \\\n",
       "100086  r5PLDU-4mSbde5XekTXSCA      5       0      0     0   \n",
       "1013    r5PLDU-4mSbde5XekTXSCA      4       0      0     0   \n",
       "101755  r5PLDU-4mSbde5XekTXSCA      5       7      8     6   \n",
       "102164  r5PLDU-4mSbde5XekTXSCA      4       3      4     2   \n",
       "102256  r5PLDU-4mSbde5XekTXSCA      3       0      0     0   \n",
       "\n",
       "                                                     text                date  \n",
       "100086  Wow! Really good Italian food with a grocery s... 2018-07-08 22:42:32  \n",
       "1013    We have been trying Eggplant sandwiches all ov... 2015-04-15 04:50:56  \n",
       "101755  (Lyrics - Falco - Rock Me Amadeus)\\n\\nOoh, Roc... 2014-01-20 16:31:22  \n",
       "102164  The omnipresent crowds here speak volumes abou... 2015-12-06 23:21:51  \n",
       "102256  I had a bruschetta open face sandwich basicall... 2017-12-18 22:42:51  "
      ]
     },
     "execution_count": 79,
     "metadata": {},
     "output_type": "execute_result"
    }
   ],
   "source": [
    "data = pd.read_json('restaurant.json')\n",
    "data.head()"
   ]
  },
  {
   "cell_type": "code",
   "execution_count": 80,
   "metadata": {},
   "outputs": [],
   "source": [
    "menu = [\"Cheese Steak\", \"Cheesesteak\", \"Steak and Cheese\", \"Italian Combo\", \"Tiramisu\", \"Cannoli\",\n",
    "        \"Chicken Salad\", \"Chicken Spinach Salad\", \"Meatball\", \"Pizza\", \"Pizzas\", \"Spaghetti\",\n",
    "        \"Bruchetta\", \"Eggplant\", \"Italian Beef\", \"Purista\", \"Pasta\", \"Calzones\",  \"Calzone\",\n",
    "        \"Italian Sausage\", \"Chicken Cutlet\", \"Chicken Parm\", \"Chicken Parmesan\", \"Gnocchi\",\n",
    "        \"Chicken Pesto\", \"Turkey Sandwich\", \"Turkey Breast\", \"Ziti\", \"Portobello\", \"Reuben\",\n",
    "        \"Mozzarella Caprese\",  \"Corned Beef\", \"Garlic Bread\", \"Pastrami\", \"Roast Beef\",\n",
    "        \"Tuna Salad\", \"Lasagna\", \"Artichoke Salad\", \"Fettuccini Alfredo\", \"Chicken Parmigiana\",\n",
    "        \"Grilled Veggie\", \"Grilled Veggies\", \"Grilled Vegetable\", \"Mac and Cheese\", \"Macaroni\",  \n",
    "         \"Prosciutto\", \"Salami\"]"
   ]
  },
  {
   "cell_type": "code",
   "execution_count": 81,
   "metadata": {},
   "outputs": [
    {
     "name": "stdout",
     "output_type": "stream",
     "text": [
      "I had the cheesesteak sub my husband had the chicken Parmesan sub. Both were delicious but mine tasted better. Portion size: We each ordered the small one so we could save room for dessert. The sandwich covered most of a normal sized dinner plate and we had to take dessert with us.\n"
     ]
    }
   ],
   "source": [
    "indexOfTheData = 14\n",
    "text_doc = nlp(data.text.iloc[indexOfTheData])\n",
    "print(text_doc)"
   ]
  },
  {
   "cell_type": "code",
   "execution_count": 82,
   "metadata": {},
   "outputs": [],
   "source": [
    "# for token in text_doc:\n",
    "#     print(f\"{token}\\t\\t{token.lemma_}\\t\\t{token.is_stop}\")"
   ]
  },
  {
   "cell_type": "code",
   "execution_count": 83,
   "metadata": {},
   "outputs": [
    {
     "name": "stdout",
     "output_type": "stream",
     "text": [
      "[(1333928641185522206, 3, 4), (1333928641185522206, 9, 11)]\n",
      "cheesesteak\n",
      "chicken Parmesan\n"
     ]
    }
   ],
   "source": [
    "from spacy.matcher import PhraseMatcher\n",
    "matcher = PhraseMatcher(nlp.vocab, attr=\"LOWER\")\n",
    "patterns = [nlp(item) for item in menu]\n",
    "matcher.add(\"MENUS\", None, *patterns)\n",
    "matches_found = matcher(text_doc)\n",
    "print(matches_found)\n",
    "for i in matches_found:\n",
    "    print(text_doc[i[1]: i[2]])"
   ]
  },
  {
   "cell_type": "markdown",
   "metadata": {},
   "source": [
    "## Matching throughout the whole data set\n",
    "       "
   ]
  },
  {
   "cell_type": "code",
   "execution_count": 90,
   "metadata": {},
   "outputs": [],
   "source": [
    "from collections import defaultdict\n",
    "item_ratings = defaultdict(list)"
   ]
  },
  {
   "cell_type": "code",
   "execution_count": 95,
   "metadata": {},
   "outputs": [],
   "source": [
    "for idx, review in data.iterrows():\n",
    "    doc = nlp(review.text)\n",
    "    matches = matcher(doc)\n",
    "    \n",
    "    found_items = set([ doc[ match[1]:match[2] ] for match in matches])\n",
    "    \n",
    "    for item in found_items:\n",
    "        item_ratings[str(item).lower()].append(review.stars)\n"
   ]
  },
  {
   "cell_type": "code",
   "execution_count": 97,
   "metadata": {},
   "outputs": [],
   "source": [
    "# print(item_ratings)"
   ]
  },
  {
   "cell_type": "code",
   "execution_count": 107,
   "metadata": {},
   "outputs": [],
   "source": [
    "# mean_ratings_old = {item: sum(ratings)//len(ratings) for item, ratings in item_ratings.items()}\n",
    "\n",
    "mean_ratings = {}\n",
    "for item, ratings in item_ratings.items():\n",
    "    mean_ratings[item]=sum(ratings)/len(ratings)\n"
   ]
  },
  {
   "cell_type": "code",
   "execution_count": 105,
   "metadata": {},
   "outputs": [],
   "source": [
    "worst_item = sorted(mean_ratings, key=mean_ratings.get)[0]"
   ]
  },
  {
   "cell_type": "code",
   "execution_count": 108,
   "metadata": {},
   "outputs": [
    {
     "name": "stdout",
     "output_type": "stream",
     "text": [
      "eggplant\n"
     ]
    }
   ],
   "source": [
    "print(worst_item)"
   ]
  },
  {
   "cell_type": "code",
   "execution_count": 113,
   "metadata": {},
   "outputs": [
    {
     "name": "stdout",
     "output_type": "stream",
     "text": [
      "                    pizza\t  716\n",
      "                    pasta\t  510\n",
      "                 meatball\t  326\n",
      "              cheesesteak\t  292\n",
      "                  calzone\t  220\n",
      "                 eggplant\t  190\n",
      "                  cannoli\t  178\n",
      "             cheese steak\t  176\n",
      "                  lasagna\t  166\n",
      "                  purista\t  134\n",
      "               prosciutto\t  126\n",
      "             chicken parm\t  116\n",
      "          italian sausage\t  114\n",
      "             garlic bread\t   92\n",
      "                  gnocchi\t   90\n",
      "                spaghetti\t   82\n",
      "                 calzones\t   76\n",
      "                   pizzas\t   66\n",
      "                   salami\t   64\n",
      "            chicken pesto\t   60\n",
      "             italian beef\t   58\n",
      "                 tiramisu\t   54\n",
      "                     ziti\t   52\n",
      "            italian combo\t   44\n",
      "         chicken parmesan\t   42\n",
      "       chicken parmigiana\t   36\n",
      "           mac and cheese\t   36\n",
      "               portobello\t   36\n",
      "                 pastrami\t   32\n",
      "           chicken cutlet\t   22\n",
      "         steak and cheese\t   18\n",
      "               roast beef\t   14\n",
      "                 macaroni\t   12\n",
      "           grilled veggie\t   12\n",
      "            chicken salad\t   12\n",
      "       fettuccini alfredo\t   12\n",
      "          artichoke salad\t   10\n",
      "          turkey sandwich\t   10\n",
      "                   reuben\t   10\n",
      "               tuna salad\t   10\n",
      "              corned beef\t    4\n",
      "    chicken spinach salad\t    4\n",
      "            turkey breast\t    2\n"
     ]
    }
   ],
   "source": [
    "counts = {item: len(ratings) for item, ratings in item_ratings.items()}\n",
    "# counts = {}\n",
    "# for item, ratings in item_ratings.items():\n",
    "#     counts[item] = len(ratings)\n",
    "# print(counts)\n",
    "item_counts = sorted(counts, key=counts.get, reverse=True)\n",
    "for item in item_counts:\n",
    "    print(f\"{item:>25}\\t{counts[item]:>5}\")"
   ]
  },
  {
   "cell_type": "code",
   "execution_count": 114,
   "metadata": {},
   "outputs": [
    {
     "name": "stdout",
     "output_type": "stream",
     "text": [
      "Worst rated menu items:\n",
      "chicken cutlet       Ave rating: 3.55 \tcount: 22\n",
      "turkey sandwich      Ave rating: 3.80 \tcount: 10\n",
      "spaghetti            Ave rating: 3.85 \tcount: 82\n",
      "italian combo        Ave rating: 3.91 \tcount: 44\n",
      "eggplant             Ave rating: 3.97 \tcount: 190\n",
      "italian beef         Ave rating: 4.00 \tcount: 58\n",
      "tuna salad           Ave rating: 4.00 \tcount: 10\n",
      "garlic bread         Ave rating: 4.02 \tcount: 92\n",
      "meatball             Ave rating: 4.08 \tcount: 326\n",
      "portobello           Ave rating: 4.11 \tcount: 36\n",
      "\n",
      "\n",
      "Best rated menu items:\n",
      "prosciutto           Ave rating: 4.62 \tcount: 126\n",
      "purista              Ave rating: 4.64 \tcount: 134\n",
      "chicken salad        Ave rating: 4.67 \tcount: 12\n",
      "pastrami             Ave rating: 4.69 \tcount: 32\n",
      "reuben               Ave rating: 4.80 \tcount: 10\n",
      "steak and cheese     Ave rating: 4.89 \tcount: 18\n",
      "artichoke salad      Ave rating: 5.00 \tcount: 10\n",
      "corned beef          Ave rating: 5.00 \tcount: 4\n",
      "fettuccini alfredo   Ave rating: 5.00 \tcount: 12\n",
      "turkey breast        Ave rating: 5.00 \tcount: 2\n"
     ]
    }
   ],
   "source": [
    "sorted_ratings = sorted(mean_ratings, key=mean_ratings.get)\n",
    "\n",
    "print(\"Worst rated menu items:\")\n",
    "for item in sorted_ratings[:10]:\n",
    "    print(f\"{item:20} Ave rating: {mean_ratings[item]:.2f} \\tcount: {counts[item]}\")\n",
    "    \n",
    "print(\"\\n\\nBest rated menu items:\")\n",
    "for item in sorted_ratings[-10:]:\n",
    "    print(f\"{item:20} Ave rating: {mean_ratings[item]:.2f} \\tcount: {counts[item]}\")"
   ]
  },
  {
   "cell_type": "code",
   "execution_count": null,
   "metadata": {},
   "outputs": [],
   "source": []
  }
 ],
 "metadata": {
  "kernelspec": {
   "display_name": "Python 3",
   "language": "python",
   "name": "python3"
  },
  "language_info": {
   "codemirror_mode": {
    "name": "ipython",
    "version": 3
   },
   "file_extension": ".py",
   "mimetype": "text/x-python",
   "name": "python",
   "nbconvert_exporter": "python",
   "pygments_lexer": "ipython3",
   "version": "3.7.3"
  }
 },
 "nbformat": 4,
 "nbformat_minor": 2
}
