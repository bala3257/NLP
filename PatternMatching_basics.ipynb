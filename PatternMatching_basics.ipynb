{
 "cells": [
  {
   "cell_type": "code",
   "execution_count": 23,
   "metadata": {},
   "outputs": [],
   "source": [
    "import spacy\n",
    "spacyModel = spacy.load(\"en_core_web_sm\")"
   ]
  },
  {
   "cell_type": "code",
   "execution_count": 24,
   "metadata": {},
   "outputs": [],
   "source": [
    "# Tea is healthy and calming, don't you think?\n",
    "\n",
    "# terms = ['Galaxy Note', 'iPhone 11', 'iPhone XS', 'Google Pixel']\n",
    "\n",
    "txt_doc = spacyModel(\"Glowing review overall, and some really interesting side-by-side \"\n",
    "               \"photography tests pitting the iPhone 11 Pro against the \"\n",
    "               \"Galaxy Note 10 Plus and last year’s iPhone XS and Google Pixel 3.\")"
   ]
  },
  {
   "cell_type": "code",
   "execution_count": 25,
   "metadata": {},
   "outputs": [],
   "source": [
    "from spacy.matcher import PhraseMatcher\n",
    "phrase_matcher = PhraseMatcher(spacyModel.vocab, attr=\"LOWER\")"
   ]
  },
  {
   "cell_type": "code",
   "execution_count": 29,
   "metadata": {},
   "outputs": [],
   "source": [
    "terms = ['Galaxy Note', 'iPhone', 'iPhone XS', 'Google Pixel']\n",
    "patterns = [spacyModel(item) for item in terms]\n",
    "phrase_matcher.add(\"Terms\", None, *patterns)"
   ]
  },
  {
   "cell_type": "code",
   "execution_count": 30,
   "metadata": {},
   "outputs": [
    {
     "name": "stdout",
     "output_type": "stream",
     "text": [
      "[(13461236316687293970, 17, 18), (13461236316687293970, 17, 19), (13461236316687293970, 22, 24), (13461236316687293970, 30, 31), (13461236316687293970, 30, 32), (13461236316687293970, 33, 35)]\n"
     ]
    }
   ],
   "source": [
    "matches = phrase_matcher(txt_doc)\n",
    "print(matches)"
   ]
  },
  {
   "cell_type": "code",
   "execution_count": 31,
   "metadata": {},
   "outputs": [
    {
     "name": "stdout",
     "output_type": "stream",
     "text": [
      "Terms = iPhone\n",
      "Terms = iPhone 11\n",
      "Terms = Galaxy Note\n",
      "Terms = iPhone\n",
      "Terms = iPhone XS\n",
      "Terms = Google Pixel\n"
     ]
    }
   ],
   "source": [
    "for item in matches:\n",
    "    print(f\"{spacyModel.vocab.strings[item[0]]} = {txt_doc[item[1]:item[2]]}\")"
   ]
  },
  {
   "cell_type": "code",
   "execution_count": null,
   "metadata": {},
   "outputs": [],
   "source": []
  }
 ],
 "metadata": {
  "kernelspec": {
   "display_name": "Python 3",
   "language": "python",
   "name": "python3"
  },
  "language_info": {
   "codemirror_mode": {
    "name": "ipython",
    "version": 3
   },
   "file_extension": ".py",
   "mimetype": "text/x-python",
   "name": "python",
   "nbconvert_exporter": "python",
   "pygments_lexer": "ipython3",
   "version": "3.7.3"
  }
 },
 "nbformat": 4,
 "nbformat_minor": 2
}
