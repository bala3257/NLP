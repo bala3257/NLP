{
  "nbformat": 4,
  "nbformat_minor": 0,
  "metadata": {
    "colab": {
      "name": "TF-IDF_Python_Implementation_SCIKIT.ipynb",
      "provenance": [],
      "collapsed_sections": []
    },
    "kernelspec": {
      "name": "python3",
      "display_name": "Python 3"
    }
  },
  "cells": [
    {
      "cell_type": "markdown",
      "metadata": {
        "id": "woHi5iPcGpVu",
        "colab_type": "text"
      },
      "source": [
        "**The following python code would build a TF-IDF model for the given corpus:**"
      ]
    },
    {
      "cell_type": "code",
      "metadata": {
        "id": "B8HXNH3hBNsw",
        "colab_type": "code",
        "colab": {}
      },
      "source": [
        "# Convert a collection of raw documents to a matrix of TF-IDF features.\n",
        "from sklearn.feature_extraction.text import TfidfVectorizer\n",
        "import operator\n",
        "# Example data set\n",
        "corpus=[\"this car got the excellence award\",\\\n",
        "         \"good car gives good mileage\",\\\n",
        "         \"this car is very expensive\",\\\n",
        "         \"the company is growing with very high production\",\\\n",
        "         \"this company is financially good\"]\n"
      ],
      "execution_count": 0,
      "outputs": []
    },
    {
      "cell_type": "code",
      "metadata": {
        "id": "u2XAvUEzBUES",
        "colab_type": "code",
        "colab": {
          "base_uri": "https://localhost:8080/",
          "height": 54
        },
        "outputId": "0cab4c9e-a09f-477e-cd23-d15c15faece5"
      },
      "source": [
        "# Formming vocabulary set from the example data set using pure python\n",
        "vocabulary = set()\n",
        "for doc in corpus:\n",
        "  vocabulary.update(doc.split())\n",
        "\n",
        "vocabulary = list(vocabulary)\n",
        "print(vocabulary)"
      ],
      "execution_count": 35,
      "outputs": [
        {
          "output_type": "stream",
          "text": [
            "['good', 'the', 'excellence', 'got', 'growing', 'award', 'gives', 'very', 'expensive', 'high', 'this', 'car', 'is', 'with', 'financially', 'mileage', 'production', 'company']\n"
          ],
          "name": "stdout"
        }
      ]
    },
    {
      "cell_type": "code",
      "metadata": {
        "id": "zBQiFUCLBg_e",
        "colab_type": "code",
        "colab": {
          "base_uri": "https://localhost:8080/",
          "height": 71
        },
        "outputId": "fd7a7737-3075-4cef-ee0f-6ae866c375ce"
      },
      "source": [
        "tfidf = TfidfVectorizer(vocabulary=vocabulary)\n",
        "\n",
        "tfidf.build_preprocessor().  #Return a function to preprocess the text before tokenization.\n",
        "tfidf.build_tokenizer(). # Return a function that splits a string into a sequence of tokens.\n",
        "tfidf.fit(corpus) # Learn vocabulary and idf from training set.\n",
        "\n",
        "print(tfidf.get_feature_names())  # Array mapping from feature integer indices to feature name.\n",
        "\n",
        "\n"
      ],
      "execution_count": 48,
      "outputs": [
        {
          "output_type": "stream",
          "text": [
            "['good', 'the', 'excellence', 'got', 'growing', 'award', 'gives', 'very', 'expensive', 'high', 'this', 'car', 'is', 'with', 'financially', 'mileage', 'production', 'company']\n",
            "<built-in method findall of _sre.SRE_Pattern object at 0x7fa7feab1288>\n"
          ],
          "name": "stdout"
        }
      ]
    },
    {
      "cell_type": "code",
      "metadata": {
        "id": "JiCr8ke6CCxw",
        "colab_type": "code",
        "colab": {
          "base_uri": "https://localhost:8080/",
          "height": 207
        },
        "outputId": "59cccd6c-de6a-498d-a2bb-742ed2ed06dc"
      },
      "source": [
        "for doc in corpus:\n",
        "  score = {}\n",
        "  print(doc)\n",
        "  X = tfidf.transform([doc])  # Transform documents to document-term matrix. Uses the vocabulary and document frequencies (df) learned by fit (or fit_transform).\n",
        "  for word in doc.split():\n",
        "    score[word] = X[0, tfidf.vocabulary_[word]]\n",
        "  sorted_score = sorted(score.items(), key=operator.itemgetter(1), reverse=True)\n",
        "  print(\"\\t\", sorted_score)\n",
        "\n"
      ],
      "execution_count": 46,
      "outputs": [
        {
          "output_type": "stream",
          "text": [
            "this car got the excellence award\n",
            "\t [('got', 0.4689132131547637), ('excellence', 0.4689132131547637), ('award', 0.4689132131547637), ('the', 0.3783162278555838), ('this', 0.3140366438234139), ('car', 0.3140366438234139)]\n",
            "good car gives good mileage\n",
            "\t [('good', 0.7178821805115433), ('gives', 0.4448982295027494), ('mileage', 0.4448982295027494), ('car', 0.2979535293877717)]\n",
            "this car is very expensive\n",
            "\t [('expensive', 0.5776914793752232), ('very', 0.4660778481185906), ('this', 0.38688671647327205), ('car', 0.38688671647327205), ('is', 0.38688671647327205)]\n",
            "the company is growing with very high production\n",
            "\t [('growing', 0.39524574252810757), ('with', 0.39524574252810757), ('high', 0.39524574252810757), ('production', 0.39524574252810757), ('the', 0.31888177640211135), ('company', 0.31888177640211135), ('very', 0.31888177640211135), ('is', 0.26470068018333703)]\n",
            "this company is financially good\n",
            "\t [('financially', 0.5591166343026757), ('company', 0.4510917800707943), ('good', 0.4510917800707943), ('this', 0.3744469262466795), ('is', 0.3744469262466795)]\n"
          ],
          "name": "stdout"
        }
      ]
    },
    {
      "cell_type": "code",
      "metadata": {
        "id": "Yo2dE3sDE73R",
        "colab_type": "code",
        "colab": {}
      },
      "source": [
        ""
      ],
      "execution_count": 0,
      "outputs": []
    }
  ]
}