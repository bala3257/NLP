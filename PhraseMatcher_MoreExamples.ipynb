{
 "cells": [
  {
   "cell_type": "code",
   "execution_count": 5,
   "metadata": {},
   "outputs": [],
   "source": [
    "import spacy\n",
    "nlp = spacy.load('en_core_web_sm')\n"
   ]
  },
  {
   "cell_type": "code",
   "execution_count": 10,
   "metadata": {},
   "outputs": [
    {
     "name": "stdout",
     "output_type": "stream",
     "text": [
      "[(7732777389095836264, 0, 2)]\n"
     ]
    }
   ],
   "source": [
    "from spacy.matcher import PhraseMatcher\n",
    "matcher = PhraseMatcher(nlp.vocab, attr=\"LOWER\")\n",
    "check_text = [\"Barack Obama\"]\n",
    "pattern = [nlp(item) for item in check_text]\n",
    "matcher.add(\"OBAMA\", None, *pattern)\n",
    "doc = nlp(\"Barack Obama lifts America one last time in emotional farewell\")\n",
    "matches = matcher(doc)\n",
    "print(matches)"
   ]
  },
  {
   "cell_type": "code",
   "execution_count": null,
   "metadata": {},
   "outputs": [],
   "source": [
    "# PhraseMatcher.py\n",
    "# import necessary modules\n",
    "import spacy\n",
    "from spacy.matcher import PhraseMatcher #import PhraseMatcher class\n",
    "# Language class with the English model 'en_core_web_sm' is loaded\n",
    "nlp = spacy.load('en_core_web_sm')\n",
    "# create the PhraseMatcher object\n",
    "matcher = PhraseMatcher(nlp.vocab, attr='LOWER')\n",
    "# the list containing the pharses to be matched\n",
    "terminology_list = [\"Machine Learning\", \"Hidden Structure\",                     \n",
    "                           \"Unlabeled Data\"]\n",
    "# convert the phrases into document object using nlp.make_doc to #speed up.\n",
    "patterns = [nlp.make_doc(text) for text in terminology_list]\n",
    "# add the patterns to the matcher object without any callbacks\n",
    "matcher.add(\"Phrase Matching\", None, *patterns)\n",
    "# the input text string is converted to a Document object\n",
    "doc = nlp(\"Supervised machine learning algorithms can apply what has been learned in the past to new data using labeled examples to predict future events. Starting from the analysis of a known training dataset, the learning algorithm produces an inferred function to make predictions about the output values. The system is able to provide targets for any new input after sufficient training. The learning algorithm can also compare its output with the correct, intended output and find errors in order to modify the model accordingly. In contrast, unsupervised machine learning algorithms are used when the information used to train is neither classified nor labeled. Unsupervised learning studies how systems can infer a function to describe a hidden structure from unlabeled data. The system doesn’t figure out the right output, but it explores the data and can draw inferences from datasets to describe hidden structures from unlabeled data. Semi-supervised machine learning algorithms fall somewhere in between supervised and unsupervised learning, since they use both labeled and unlabeled data for training – typically a small amount of labeled data and a large amount of unlabeled data. The systems that use this method are able to considerably improve learning accuracy. Usually, semi-supervised learning is chosen when the acquired labeled data requires skilled and relevant resources in order to train it / learn from it. Otherwise, acquiring unlabeled data generally doesn’t require additional resources.\")\n",
    "#call the matcher object the document object and it will return #match_id, start and stop indexes of the matched words\n",
    "matches = matcher(doc)\n",
    "#print the matched results and extract out the results\n",
    "for match_id, start, end in matches:\n",
    "    # Get the string representation \n",
    "    string_id = nlp.vocab.strings[match_id]  \n",
    "    span = doc[start:end]  # The matched span\n",
    "    print(match_id, string_id, start, end, span.text)"
   ]
  }
 ],
 "metadata": {
  "kernelspec": {
   "display_name": "Python 3",
   "language": "python",
   "name": "python3"
  },
  "language_info": {
   "codemirror_mode": {
    "name": "ipython",
    "version": 3
   },
   "file_extension": ".py",
   "mimetype": "text/x-python",
   "name": "python",
   "nbconvert_exporter": "python",
   "pygments_lexer": "ipython3",
   "version": "3.7.3"
  }
 },
 "nbformat": 4,
 "nbformat_minor": 2
}
